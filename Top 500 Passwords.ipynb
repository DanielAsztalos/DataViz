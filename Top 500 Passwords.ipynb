{
 "cells": [
  {
   "cell_type": "code",
   "execution_count": 22,
   "metadata": {},
   "outputs": [],
   "source": [
    "import pandas as pd\n",
    "import matplotlib.pyplot as plt"
   ]
  },
  {
   "cell_type": "code",
   "execution_count": 11,
   "metadata": {},
   "outputs": [
    {
     "data": {
      "text/html": [
       "<div>\n",
       "<style scoped>\n",
       "    .dataframe tbody tr th:only-of-type {\n",
       "        vertical-align: middle;\n",
       "    }\n",
       "\n",
       "    .dataframe tbody tr th {\n",
       "        vertical-align: top;\n",
       "    }\n",
       "\n",
       "    .dataframe thead th {\n",
       "        text-align: right;\n",
       "    }\n",
       "</style>\n",
       "<table border=\"1\" class=\"dataframe\">\n",
       "  <thead>\n",
       "    <tr style=\"text-align: right;\">\n",
       "      <th></th>\n",
       "      <th>Password</th>\n",
       "      <th>font size</th>\n",
       "      <th>category</th>\n",
       "      <th>online crack</th>\n",
       "      <th>offline crack (sec)</th>\n",
       "      <th>rank alt</th>\n",
       "      <th>strength</th>\n",
       "    </tr>\n",
       "    <tr>\n",
       "      <th>rank</th>\n",
       "      <th></th>\n",
       "      <th></th>\n",
       "      <th></th>\n",
       "      <th></th>\n",
       "      <th></th>\n",
       "      <th></th>\n",
       "      <th></th>\n",
       "    </tr>\n",
       "  </thead>\n",
       "  <tbody>\n",
       "    <tr>\n",
       "      <th>1</th>\n",
       "      <td>password</td>\n",
       "      <td>11</td>\n",
       "      <td>password-related</td>\n",
       "      <td>6.91 years</td>\n",
       "      <td>2.170000e+00</td>\n",
       "      <td>1</td>\n",
       "      <td>8</td>\n",
       "    </tr>\n",
       "    <tr>\n",
       "      <th>2</th>\n",
       "      <td>123456</td>\n",
       "      <td>8</td>\n",
       "      <td>simple-alphanumeric</td>\n",
       "      <td>18.52 minutes</td>\n",
       "      <td>1.110000e-05</td>\n",
       "      <td>2</td>\n",
       "      <td>4</td>\n",
       "    </tr>\n",
       "    <tr>\n",
       "      <th>3</th>\n",
       "      <td>12345678</td>\n",
       "      <td>8</td>\n",
       "      <td>simple-alphanumeric</td>\n",
       "      <td>1.29 days</td>\n",
       "      <td>1.110000e-03</td>\n",
       "      <td>3</td>\n",
       "      <td>4</td>\n",
       "    </tr>\n",
       "    <tr>\n",
       "      <th>4</th>\n",
       "      <td>1234</td>\n",
       "      <td>8</td>\n",
       "      <td>simple-alphanumeric</td>\n",
       "      <td>11.11 seconds</td>\n",
       "      <td>1.110000e-07</td>\n",
       "      <td>4</td>\n",
       "      <td>4</td>\n",
       "    </tr>\n",
       "    <tr>\n",
       "      <th>5</th>\n",
       "      <td>qwerty</td>\n",
       "      <td>11</td>\n",
       "      <td>simple-alphanumeric</td>\n",
       "      <td>3.72 days</td>\n",
       "      <td>3.210000e-03</td>\n",
       "      <td>5</td>\n",
       "      <td>8</td>\n",
       "    </tr>\n",
       "  </tbody>\n",
       "</table>\n",
       "</div>"
      ],
      "text/plain": [
       "      Password  font size             category   online crack  \\\n",
       "rank                                                            \n",
       "1     password         11     password-related     6.91 years   \n",
       "2       123456          8  simple-alphanumeric  18.52 minutes   \n",
       "3     12345678          8  simple-alphanumeric      1.29 days   \n",
       "4         1234          8  simple-alphanumeric  11.11 seconds   \n",
       "5       qwerty         11  simple-alphanumeric      3.72 days   \n",
       "\n",
       "      offline crack (sec)  rank alt  strength  \n",
       "rank                                           \n",
       "1            2.170000e+00         1         8  \n",
       "2            1.110000e-05         2         4  \n",
       "3            1.110000e-03         3         4  \n",
       "4            1.110000e-07         4         4  \n",
       "5            3.210000e-03         5         8  "
      ]
     },
     "execution_count": 11,
     "metadata": {},
     "output_type": "execute_result"
    }
   ],
   "source": [
    "data = pd.read_csv(\"KIB - Passwords (public) - master password list.csv\", index_col=0)\n",
    "data.head()"
   ]
  },
  {
   "cell_type": "code",
   "execution_count": 42,
   "metadata": {
    "scrolled": false
   },
   "outputs": [
    {
     "data": {
      "text/plain": [
       "Text(0, 0.5, 'Count')"
      ]
     },
     "execution_count": 42,
     "metadata": {},
     "output_type": "execute_result"
    },
    {
     "data": {
      "image/png": "[encoded data removed]",
      "text/plain": [
       "<Figure size 720x504 with 1 Axes>"
      ]
     },
     "metadata": {
      "needs_background": "light"
     },
     "output_type": "display_data"
    }
   ],
   "source": [
    "plt.figure(figsize=(10, 7))\n",
    "\n",
    "data.groupby('category').count().sort_values(by='rank alt', ascending=False)['rank alt'].plot(kind=\"bar\")\n",
    "\n",
    "plt.title(\"Most common categories of the top 500 passwords\")\n",
    "plt.ylabel(\"Count\")"
   ]
  }
 ],
 "metadata": {
  "kernelspec": {
   "display_name": "Python 3",
   "language": "python",
   "name": "python3"
  },
  "language_info": {
   "codemirror_mode": {
    "name": "ipython",
    "version": 3
   },
   "file_extension": ".py",
   "mimetype": "text/x-python",
   "name": "python",
   "nbconvert_exporter": "python",
   "pygments_lexer": "ipython3",
   "version": "3.7.8"
  }
 },
 "nbformat": 4,
 "nbformat_minor": 4
}
